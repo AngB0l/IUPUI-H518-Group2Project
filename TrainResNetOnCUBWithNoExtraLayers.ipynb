{
  "nbformat": 4,
  "nbformat_minor": 0,
  "metadata": {
    "accelerator": "GPU",
    "colab": {
      "name": "TrainResNetOnCUBWithNoExtraLayers.ipynb",
      "provenance": [],
      "collapsed_sections": [],
      "toc_visible": true,
      "machine_shape": "hm",
      "mount_file_id": "1jm4Qteo2-9U8SuFFLM19aypgLFNylops",
      "authorship_tag": "ABX9TyNLLNsSQ0FvRED6Pn+0LO0a",
      "include_colab_link": true
    },
    "kernelspec": {
      "display_name": "Python 3",
      "name": "python3"
    }
  },
  "cells": [
    {
      "cell_type": "markdown",
      "metadata": {
        "id": "view-in-github",
        "colab_type": "text"
      },
      "source": [
        "<a href=\"https://colab.research.google.com/github/AngB0l/IUPUI-H518-Group2Project/blob/main/TrainResNetOnCUBWithNoExtraLayers.ipynb\" target=\"_parent\"><img src=\"https://colab.research.google.com/assets/colab-badge.svg\" alt=\"Open In Colab\"/></a>"
      ]
    },
    {
      "cell_type": "code",
      "metadata": {
        "colab": {
          "base_uri": "https://localhost:8080/"
        },
        "id": "CuFz6qyZjgPz",
        "outputId": "e928a9b6-09db-4217-fe2c-b91700fc49d0"
      },
      "source": [
        "# we need tf v2.2.0 to use tf-expalain. throws error with newer versions\n",
        "!pip install tensorflow==2.2.0"
      ],
      "execution_count": 1,
      "outputs": [
        {
          "output_type": "stream",
          "text": [
            "Collecting tensorflow==2.2.0\n",
            "\u001b[?25l  Downloading https://files.pythonhosted.org/packages/3d/be/679ce5254a8c8d07470efb4a4c00345fae91f766e64f1c2aece8796d7218/tensorflow-2.2.0-cp36-cp36m-manylinux2010_x86_64.whl (516.2MB)\n",
            "\u001b[K     |████████████████████████████████| 516.2MB 28kB/s \n",
            "\u001b[?25hRequirement already satisfied: protobuf>=3.8.0 in /usr/local/lib/python3.6/dist-packages (from tensorflow==2.2.0) (3.12.4)\n",
            "Requirement already satisfied: scipy==1.4.1; python_version >= \"3\" in /usr/local/lib/python3.6/dist-packages (from tensorflow==2.2.0) (1.4.1)\n",
            "Requirement already satisfied: gast==0.3.3 in /usr/local/lib/python3.6/dist-packages (from tensorflow==2.2.0) (0.3.3)\n",
            "Requirement already satisfied: keras-preprocessing>=1.1.0 in /usr/local/lib/python3.6/dist-packages (from tensorflow==2.2.0) (1.1.2)\n",
            "Requirement already satisfied: wheel>=0.26; python_version >= \"3\" in /usr/local/lib/python3.6/dist-packages (from tensorflow==2.2.0) (0.36.2)\n",
            "Requirement already satisfied: absl-py>=0.7.0 in /usr/local/lib/python3.6/dist-packages (from tensorflow==2.2.0) (0.10.0)\n",
            "Requirement already satisfied: google-pasta>=0.1.8 in /usr/local/lib/python3.6/dist-packages (from tensorflow==2.2.0) (0.2.0)\n",
            "Requirement already satisfied: wrapt>=1.11.1 in /usr/local/lib/python3.6/dist-packages (from tensorflow==2.2.0) (1.12.1)\n",
            "Collecting tensorboard<2.3.0,>=2.2.0\n",
            "\u001b[?25l  Downloading https://files.pythonhosted.org/packages/1d/74/0a6fcb206dcc72a6da9a62dd81784bfdbff5fedb099982861dc2219014fb/tensorboard-2.2.2-py3-none-any.whl (3.0MB)\n",
            "\u001b[K     |████████████████████████████████| 3.0MB 56.6MB/s \n",
            "\u001b[?25hRequirement already satisfied: astunparse==1.6.3 in /usr/local/lib/python3.6/dist-packages (from tensorflow==2.2.0) (1.6.3)\n",
            "Requirement already satisfied: h5py<2.11.0,>=2.10.0 in /usr/local/lib/python3.6/dist-packages (from tensorflow==2.2.0) (2.10.0)\n",
            "Requirement already satisfied: grpcio>=1.8.6 in /usr/local/lib/python3.6/dist-packages (from tensorflow==2.2.0) (1.32.0)\n",
            "Requirement already satisfied: six>=1.12.0 in /usr/local/lib/python3.6/dist-packages (from tensorflow==2.2.0) (1.15.0)\n",
            "Requirement already satisfied: numpy<2.0,>=1.16.0 in /usr/local/lib/python3.6/dist-packages (from tensorflow==2.2.0) (1.19.5)\n",
            "Collecting tensorflow-estimator<2.3.0,>=2.2.0\n",
            "\u001b[?25l  Downloading https://files.pythonhosted.org/packages/a4/f5/926ae53d6a226ec0fda5208e0e581cffed895ccc89e36ba76a8e60895b78/tensorflow_estimator-2.2.0-py2.py3-none-any.whl (454kB)\n",
            "\u001b[K     |████████████████████████████████| 460kB 53.4MB/s \n",
            "\u001b[?25hRequirement already satisfied: termcolor>=1.1.0 in /usr/local/lib/python3.6/dist-packages (from tensorflow==2.2.0) (1.1.0)\n",
            "Requirement already satisfied: opt-einsum>=2.3.2 in /usr/local/lib/python3.6/dist-packages (from tensorflow==2.2.0) (3.3.0)\n",
            "Requirement already satisfied: setuptools in /usr/local/lib/python3.6/dist-packages (from protobuf>=3.8.0->tensorflow==2.2.0) (51.1.1)\n",
            "Requirement already satisfied: google-auth-oauthlib<0.5,>=0.4.1 in /usr/local/lib/python3.6/dist-packages (from tensorboard<2.3.0,>=2.2.0->tensorflow==2.2.0) (0.4.2)\n",
            "Requirement already satisfied: markdown>=2.6.8 in /usr/local/lib/python3.6/dist-packages (from tensorboard<2.3.0,>=2.2.0->tensorflow==2.2.0) (3.3.3)\n",
            "Requirement already satisfied: google-auth<2,>=1.6.3 in /usr/local/lib/python3.6/dist-packages (from tensorboard<2.3.0,>=2.2.0->tensorflow==2.2.0) (1.17.2)\n",
            "Requirement already satisfied: tensorboard-plugin-wit>=1.6.0 in /usr/local/lib/python3.6/dist-packages (from tensorboard<2.3.0,>=2.2.0->tensorflow==2.2.0) (1.7.0)\n",
            "Requirement already satisfied: requests<3,>=2.21.0 in /usr/local/lib/python3.6/dist-packages (from tensorboard<2.3.0,>=2.2.0->tensorflow==2.2.0) (2.23.0)\n",
            "Requirement already satisfied: werkzeug>=0.11.15 in /usr/local/lib/python3.6/dist-packages (from tensorboard<2.3.0,>=2.2.0->tensorflow==2.2.0) (1.0.1)\n",
            "Requirement already satisfied: requests-oauthlib>=0.7.0 in /usr/local/lib/python3.6/dist-packages (from google-auth-oauthlib<0.5,>=0.4.1->tensorboard<2.3.0,>=2.2.0->tensorflow==2.2.0) (1.3.0)\n",
            "Requirement already satisfied: importlib-metadata; python_version < \"3.8\" in /usr/local/lib/python3.6/dist-packages (from markdown>=2.6.8->tensorboard<2.3.0,>=2.2.0->tensorflow==2.2.0) (3.3.0)\n",
            "Requirement already satisfied: pyasn1-modules>=0.2.1 in /usr/local/lib/python3.6/dist-packages (from google-auth<2,>=1.6.3->tensorboard<2.3.0,>=2.2.0->tensorflow==2.2.0) (0.2.8)\n",
            "Requirement already satisfied: rsa<5,>=3.1.4; python_version >= \"3\" in /usr/local/lib/python3.6/dist-packages (from google-auth<2,>=1.6.3->tensorboard<2.3.0,>=2.2.0->tensorflow==2.2.0) (4.6)\n",
            "Requirement already satisfied: cachetools<5.0,>=2.0.0 in /usr/local/lib/python3.6/dist-packages (from google-auth<2,>=1.6.3->tensorboard<2.3.0,>=2.2.0->tensorflow==2.2.0) (4.2.0)\n",
            "Requirement already satisfied: urllib3!=1.25.0,!=1.25.1,<1.26,>=1.21.1 in /usr/local/lib/python3.6/dist-packages (from requests<3,>=2.21.0->tensorboard<2.3.0,>=2.2.0->tensorflow==2.2.0) (1.24.3)\n",
            "Requirement already satisfied: certifi>=2017.4.17 in /usr/local/lib/python3.6/dist-packages (from requests<3,>=2.21.0->tensorboard<2.3.0,>=2.2.0->tensorflow==2.2.0) (2020.12.5)\n",
            "Requirement already satisfied: idna<3,>=2.5 in /usr/local/lib/python3.6/dist-packages (from requests<3,>=2.21.0->tensorboard<2.3.0,>=2.2.0->tensorflow==2.2.0) (2.10)\n",
            "Requirement already satisfied: chardet<4,>=3.0.2 in /usr/local/lib/python3.6/dist-packages (from requests<3,>=2.21.0->tensorboard<2.3.0,>=2.2.0->tensorflow==2.2.0) (3.0.4)\n",
            "Requirement already satisfied: oauthlib>=3.0.0 in /usr/local/lib/python3.6/dist-packages (from requests-oauthlib>=0.7.0->google-auth-oauthlib<0.5,>=0.4.1->tensorboard<2.3.0,>=2.2.0->tensorflow==2.2.0) (3.1.0)\n",
            "Requirement already satisfied: typing-extensions>=3.6.4; python_version < \"3.8\" in /usr/local/lib/python3.6/dist-packages (from importlib-metadata; python_version < \"3.8\"->markdown>=2.6.8->tensorboard<2.3.0,>=2.2.0->tensorflow==2.2.0) (3.7.4.3)\n",
            "Requirement already satisfied: zipp>=0.5 in /usr/local/lib/python3.6/dist-packages (from importlib-metadata; python_version < \"3.8\"->markdown>=2.6.8->tensorboard<2.3.0,>=2.2.0->tensorflow==2.2.0) (3.4.0)\n",
            "Requirement already satisfied: pyasn1<0.5.0,>=0.4.6 in /usr/local/lib/python3.6/dist-packages (from pyasn1-modules>=0.2.1->google-auth<2,>=1.6.3->tensorboard<2.3.0,>=2.2.0->tensorflow==2.2.0) (0.4.8)\n",
            "Installing collected packages: tensorboard, tensorflow-estimator, tensorflow\n",
            "  Found existing installation: tensorboard 2.4.0\n",
            "    Uninstalling tensorboard-2.4.0:\n",
            "      Successfully uninstalled tensorboard-2.4.0\n",
            "  Found existing installation: tensorflow-estimator 2.4.0\n",
            "    Uninstalling tensorflow-estimator-2.4.0:\n",
            "      Successfully uninstalled tensorflow-estimator-2.4.0\n",
            "  Found existing installation: tensorflow 2.4.0\n",
            "    Uninstalling tensorflow-2.4.0:\n",
            "      Successfully uninstalled tensorflow-2.4.0\n",
            "Successfully installed tensorboard-2.2.2 tensorflow-2.2.0 tensorflow-estimator-2.2.0\n"
          ],
          "name": "stdout"
        }
      ]
    },
    {
      "cell_type": "code",
      "metadata": {
        "colab": {
          "base_uri": "https://localhost:8080/"
        },
        "id": "z3AR1YBpjSDn",
        "outputId": "78328daf-e406-4826-9f01-1e00bb6dc3d1"
      },
      "source": [
        "import os\n",
        "import shutil\n",
        "import sys\n",
        "import random\n",
        "import errno\n",
        "import numpy as np\n",
        "import keras\n",
        "from keras import models, layers, optimizers\n",
        "from keras.applications import resnet50\n",
        "from keras.preprocessing.image import load_img\n",
        "from keras.preprocessing.image import img_to_array\n",
        "from keras.preprocessing.image import ImageDataGenerator\n",
        "from keras.applications.imagenet_utils import decode_predictions\n",
        "from keras.models import Sequential\n",
        "from keras.layers import Dense,Flatten,Dropout\n",
        "from tensorflow.keras.optimizers import Adam, SGD\n",
        "from tensorflow.keras.models import Model, Sequential\n",
        "from tensorflow.keras.callbacks import EarlyStopping, LearningRateScheduler, ReduceLROnPlateau\n",
        "from tensorflow.keras.layers import Input, Dense, Dropout, Flatten, Activation,Concatenate, AveragePooling2D\n",
        "import matplotlib.pyplot as plt\n",
        "import tensorflow as tf\n",
        "print(tf.__version__)"
      ],
      "execution_count": 2,
      "outputs": [
        {
          "output_type": "stream",
          "text": [
            "2.2.0\n"
          ],
          "name": "stdout"
        }
      ]
    },
    {
      "cell_type": "code",
      "metadata": {
        "colab": {
          "base_uri": "https://localhost:8080/"
        },
        "id": "PBEH92arczAy",
        "outputId": "5e4a358c-febd-49ca-dce6-eba58ae51fd2"
      },
      "source": [
        "gpu_info = !nvidia-smi\n",
        "gpu_info = '\\n'.join(gpu_info)\n",
        "if gpu_info.find('failed') >= 0:\n",
        "  print('Select the Runtime > \"Change runtime type\" menu to enable a GPU accelerator, ')\n",
        "  print('and then re-execute this cell.')\n",
        "else:\n",
        "  print(gpu_info)\n",
        "\n",
        "# tf.test.gpu_device_name()\n",
        "\n",
        "tf.keras.backend.clear_session()"
      ],
      "execution_count": 3,
      "outputs": [
        {
          "output_type": "stream",
          "text": [
            "Tue Jan 19 08:09:17 2021       \n",
            "+-----------------------------------------------------------------------------+\n",
            "| NVIDIA-SMI 460.27.04    Driver Version: 418.67       CUDA Version: 10.1     |\n",
            "|-------------------------------+----------------------+----------------------+\n",
            "| GPU  Name        Persistence-M| Bus-Id        Disp.A | Volatile Uncorr. ECC |\n",
            "| Fan  Temp  Perf  Pwr:Usage/Cap|         Memory-Usage | GPU-Util  Compute M. |\n",
            "|                               |                      |               MIG M. |\n",
            "|===============================+======================+======================|\n",
            "|   0  Tesla P100-PCIE...  Off  | 00000000:00:04.0 Off |                    0 |\n",
            "| N/A   41C    P0    26W / 250W |      0MiB / 16280MiB |      0%      Default |\n",
            "|                               |                      |                 ERR! |\n",
            "+-------------------------------+----------------------+----------------------+\n",
            "                                                                               \n",
            "+-----------------------------------------------------------------------------+\n",
            "| Processes:                                                                  |\n",
            "|  GPU   GI   CI        PID   Type   Process name                  GPU Memory |\n",
            "|        ID   ID                                                   Usage      |\n",
            "|=============================================================================|\n",
            "|  No running processes found                                                 |\n",
            "+-----------------------------------------------------------------------------+\n"
          ],
          "name": "stdout"
        }
      ]
    },
    {
      "cell_type": "markdown",
      "metadata": {
        "id": "aCoYIZcrdTh9"
      },
      "source": [
        "# New Section"
      ]
    },
    {
      "cell_type": "code",
      "metadata": {
        "id": "qn1_e9QoG-SK"
      },
      "source": [
        "def load_image_paths(dataset_path, path_prefix=''):\n",
        "    paths = {}\n",
        "\n",
        "    with open(os.path.join(dataset_path, 'images.txt')) as f:\n",
        "        for line in f:\n",
        "            (k, p) = line.split()\n",
        "            path = os.path.join(path_prefix, p)\n",
        "            paths[int(k)] = path\n",
        "\n",
        "    return paths\n",
        "\n",
        "def load_class_names(dataset_path):\n",
        "    classes = {}\n",
        "\n",
        "    with open(os.path.join(dataset_path, \"classes.txt\")) as f:\n",
        "        for line in f:\n",
        "            (k, c) = line.split()\n",
        "            classes[int(k)] = c\n",
        "\n",
        "    return classes\n",
        "\n",
        "def load_image_labels(dataset_path):\n",
        "    labels = {}\n",
        "\n",
        "    with open(os.path.join(dataset_path, \"image_class_labels.txt\")) as f:\n",
        "        for line in f:\n",
        "            (k, c) = line.split()\n",
        "            labels[int(k)] = int(c)\n",
        "\n",
        "    return labels\n",
        "\n",
        "def split_each_class(class_names, image_labels, split_train=0.60, split_val=0.20, split_test=0.20):\n",
        "    splits = {}\n",
        "\n",
        "    for c in class_names.keys():\n",
        "        # Find all images with label c\n",
        "        class_images = [k for k,v in image_labels.items() if v == c]\n",
        "\n",
        "        # Count images with label c\n",
        "        class_count = len(class_images)\n",
        "\n",
        "        # Split 60/20/20 train/val/test\n",
        "        train_count = round(class_count * split_train)\n",
        "        val_count = round(class_count * split_val)\n",
        "        test_count = round(class_count * split_test)\n",
        "\n",
        "        image_indices = list(range(class_count))\n",
        "        random.shuffle(image_indices)\n",
        "\n",
        "        train_indices = image_indices[0:train_count]\n",
        "        val_indices = image_indices[train_count:train_count+val_count]\n",
        "        test_indices = image_indices[train_count+val_count:]\n",
        "\n",
        "        for i in train_indices:\n",
        "            splits[class_images[i]] = 0\n",
        "        for i in val_indices:\n",
        "            splits[class_images[i]] = 1\n",
        "        for i in test_indices:\n",
        "            splits[class_images[i]] = 2\n",
        "\n",
        "    return splits\n",
        "\n",
        "def copy_by_split(class_splits, image_paths, source_base, destination_base):\n",
        "    folders = {0: \"train\", 1: \"val\", 2: \"test\"}\n",
        "\n",
        "    for k,v in class_splits.items():\n",
        "        old_path = os.path.join(source_base, image_paths[k])\n",
        "        new_path = os.path.join(destination_base, folders[v], image_paths[k])\n",
        "        try:\n",
        "            shutil.copy2(old_path, new_path)\n",
        "        except IOError as e:\n",
        "            if e.errno != errno.ENOENT:\n",
        "                raise\n",
        "            os.makedirs(os.path.dirname(new_path))\n",
        "            shutil.copy2(old_path, new_path)"
      ],
      "execution_count": 4,
      "outputs": []
    },
    {
      "cell_type": "code",
      "metadata": {
        "colab": {
          "base_uri": "https://localhost:8080/"
        },
        "id": "VMbNarGPHDMC",
        "outputId": "74bf8c9a-b258-4a70-e9a7-50d0d6471861"
      },
      "source": [
        "from google.colab import drive\n",
        "drive.mount('/content/drive')"
      ],
      "execution_count": 5,
      "outputs": [
        {
          "output_type": "stream",
          "text": [
            "Mounted at /content/drive\n"
          ],
          "name": "stdout"
        }
      ]
    },
    {
      "cell_type": "code",
      "metadata": {
        "id": "Ctw7Wsi6wRA2"
      },
      "source": [
        "tf.random.set_seed(42)"
      ],
      "execution_count": 6,
      "outputs": []
    },
    {
      "cell_type": "code",
      "metadata": {
        "id": "2452KqhyHGL8"
      },
      "source": [
        "dataset_path = \"/content/drive/My Drive/CUB_200_2011/CUB_200_2011/\"\n",
        "image_path_prefix = \"images\"\n",
        "# destination_path = \"/content/drive/My Drive/copyCUB_200_2011\""
      ],
      "execution_count": 7,
      "outputs": []
    },
    {
      "cell_type": "code",
      "metadata": {
        "id": "8Ea81weHMyxn"
      },
      "source": [
        "# call the functions we created above\n",
        "class_names = load_class_names(dataset_path)\n",
        "image_labels = load_image_labels(dataset_path)\n",
        "image_paths = load_image_paths(dataset_path, image_path_prefix)"
      ],
      "execution_count": 8,
      "outputs": []
    },
    {
      "cell_type": "code",
      "metadata": {
        "id": "ghjlR_jjM4jk"
      },
      "source": [
        "# class_splits = split_each_class(class_names, image_labels, 0.60, 0.20, 0.20)\n",
        "# copy_by_split(class_splits, image_paths, dataset_path, destination_path)"
      ],
      "execution_count": 9,
      "outputs": []
    },
    {
      "cell_type": "code",
      "metadata": {
        "id": "UtzAyxrPOYdF"
      },
      "source": [
        "train_dir = \"/content/drive/My Drive/copyCUB_200_2011/train/images\"\n",
        "val_dir = \"/content/drive/My Drive/copyCUB_200_2011/val/images\"\n",
        "\n",
        "\n",
        "classes_count = 200\n",
        "image_size = 224"
      ],
      "execution_count": 10,
      "outputs": []
    },
    {
      "cell_type": "markdown",
      "metadata": {
        "id": "1x6T7rVY_JiZ"
      },
      "source": [
        "# Create the model"
      ]
    },
    {
      "cell_type": "code",
      "metadata": {
        "colab": {
          "base_uri": "https://localhost:8080/"
        },
        "id": "P-rMR6fCNig9",
        "outputId": "e5803527-af5f-4885-8fd2-2d15b009cc39"
      },
      "source": [
        "# Create the model\n",
        "\n",
        "baseModel = resnet50.ResNet50(weights=\"imagenet\", include_top=False, input_tensor=Input(shape=(224, 224, 3)))\n",
        "# for layer in baseModel.layers:\n",
        "# \tlayer.trainable = False\n",
        "\n",
        "headModel = baseModel.output\n",
        "headModel = AveragePooling2D(pool_size=(7, 7))(headModel)\n",
        "headModel = Flatten(name=\"flatten\")(headModel)\n",
        "headModel = Dense(classes_count, activation=\"softmax\")(headModel)\n",
        "\n",
        "model = Model(inputs=baseModel.input, outputs=headModel)\n",
        "\n",
        "print(model.summary())\n",
        "\n"
      ],
      "execution_count": 11,
      "outputs": [
        {
          "output_type": "stream",
          "text": [
            "Downloading data from https://storage.googleapis.com/tensorflow/keras-applications/resnet/resnet50_weights_tf_dim_ordering_tf_kernels_notop.h5\n",
            "94773248/94765736 [==============================] - 1s 0us/step\n",
            "Model: \"model\"\n",
            "__________________________________________________________________________________________________\n",
            "Layer (type)                    Output Shape         Param #     Connected to                     \n",
            "==================================================================================================\n",
            "input_1 (InputLayer)            [(None, 224, 224, 3) 0                                            \n",
            "__________________________________________________________________________________________________\n",
            "conv1_pad (ZeroPadding2D)       (None, 230, 230, 3)  0           input_1[0][0]                    \n",
            "__________________________________________________________________________________________________\n",
            "conv1_conv (Conv2D)             (None, 112, 112, 64) 9472        conv1_pad[0][0]                  \n",
            "__________________________________________________________________________________________________\n",
            "conv1_bn (BatchNormalization)   (None, 112, 112, 64) 256         conv1_conv[0][0]                 \n",
            "__________________________________________________________________________________________________\n",
            "conv1_relu (Activation)         (None, 112, 112, 64) 0           conv1_bn[0][0]                   \n",
            "__________________________________________________________________________________________________\n",
            "pool1_pad (ZeroPadding2D)       (None, 114, 114, 64) 0           conv1_relu[0][0]                 \n",
            "__________________________________________________________________________________________________\n",
            "pool1_pool (MaxPooling2D)       (None, 56, 56, 64)   0           pool1_pad[0][0]                  \n",
            "__________________________________________________________________________________________________\n",
            "conv2_block1_1_conv (Conv2D)    (None, 56, 56, 64)   4160        pool1_pool[0][0]                 \n",
            "__________________________________________________________________________________________________\n",
            "conv2_block1_1_bn (BatchNormali (None, 56, 56, 64)   256         conv2_block1_1_conv[0][0]        \n",
            "__________________________________________________________________________________________________\n",
            "conv2_block1_1_relu (Activation (None, 56, 56, 64)   0           conv2_block1_1_bn[0][0]          \n",
            "__________________________________________________________________________________________________\n",
            "conv2_block1_2_conv (Conv2D)    (None, 56, 56, 64)   36928       conv2_block1_1_relu[0][0]        \n",
            "__________________________________________________________________________________________________\n",
            "conv2_block1_2_bn (BatchNormali (None, 56, 56, 64)   256         conv2_block1_2_conv[0][0]        \n",
            "__________________________________________________________________________________________________\n",
            "conv2_block1_2_relu (Activation (None, 56, 56, 64)   0           conv2_block1_2_bn[0][0]          \n",
            "__________________________________________________________________________________________________\n",
            "conv2_block1_0_conv (Conv2D)    (None, 56, 56, 256)  16640       pool1_pool[0][0]                 \n",
            "__________________________________________________________________________________________________\n",
            "conv2_block1_3_conv (Conv2D)    (None, 56, 56, 256)  16640       conv2_block1_2_relu[0][0]        \n",
            "__________________________________________________________________________________________________\n",
            "conv2_block1_0_bn (BatchNormali (None, 56, 56, 256)  1024        conv2_block1_0_conv[0][0]        \n",
            "__________________________________________________________________________________________________\n",
            "conv2_block1_3_bn (BatchNormali (None, 56, 56, 256)  1024        conv2_block1_3_conv[0][0]        \n",
            "__________________________________________________________________________________________________\n",
            "conv2_block1_add (Add)          (None, 56, 56, 256)  0           conv2_block1_0_bn[0][0]          \n",
            "                                                                 conv2_block1_3_bn[0][0]          \n",
            "__________________________________________________________________________________________________\n",
            "conv2_block1_out (Activation)   (None, 56, 56, 256)  0           conv2_block1_add[0][0]           \n",
            "__________________________________________________________________________________________________\n",
            "conv2_block2_1_conv (Conv2D)    (None, 56, 56, 64)   16448       conv2_block1_out[0][0]           \n",
            "__________________________________________________________________________________________________\n",
            "conv2_block2_1_bn (BatchNormali (None, 56, 56, 64)   256         conv2_block2_1_conv[0][0]        \n",
            "__________________________________________________________________________________________________\n",
            "conv2_block2_1_relu (Activation (None, 56, 56, 64)   0           conv2_block2_1_bn[0][0]          \n",
            "__________________________________________________________________________________________________\n",
            "conv2_block2_2_conv (Conv2D)    (None, 56, 56, 64)   36928       conv2_block2_1_relu[0][0]        \n",
            "__________________________________________________________________________________________________\n",
            "conv2_block2_2_bn (BatchNormali (None, 56, 56, 64)   256         conv2_block2_2_conv[0][0]        \n",
            "__________________________________________________________________________________________________\n",
            "conv2_block2_2_relu (Activation (None, 56, 56, 64)   0           conv2_block2_2_bn[0][0]          \n",
            "__________________________________________________________________________________________________\n",
            "conv2_block2_3_conv (Conv2D)    (None, 56, 56, 256)  16640       conv2_block2_2_relu[0][0]        \n",
            "__________________________________________________________________________________________________\n",
            "conv2_block2_3_bn (BatchNormali (None, 56, 56, 256)  1024        conv2_block2_3_conv[0][0]        \n",
            "__________________________________________________________________________________________________\n",
            "conv2_block2_add (Add)          (None, 56, 56, 256)  0           conv2_block1_out[0][0]           \n",
            "                                                                 conv2_block2_3_bn[0][0]          \n",
            "__________________________________________________________________________________________________\n",
            "conv2_block2_out (Activation)   (None, 56, 56, 256)  0           conv2_block2_add[0][0]           \n",
            "__________________________________________________________________________________________________\n",
            "conv2_block3_1_conv (Conv2D)    (None, 56, 56, 64)   16448       conv2_block2_out[0][0]           \n",
            "__________________________________________________________________________________________________\n",
            "conv2_block3_1_bn (BatchNormali (None, 56, 56, 64)   256         conv2_block3_1_conv[0][0]        \n",
            "__________________________________________________________________________________________________\n",
            "conv2_block3_1_relu (Activation (None, 56, 56, 64)   0           conv2_block3_1_bn[0][0]          \n",
            "__________________________________________________________________________________________________\n",
            "conv2_block3_2_conv (Conv2D)    (None, 56, 56, 64)   36928       conv2_block3_1_relu[0][0]        \n",
            "__________________________________________________________________________________________________\n",
            "conv2_block3_2_bn (BatchNormali (None, 56, 56, 64)   256         conv2_block3_2_conv[0][0]        \n",
            "__________________________________________________________________________________________________\n",
            "conv2_block3_2_relu (Activation (None, 56, 56, 64)   0           conv2_block3_2_bn[0][0]          \n",
            "__________________________________________________________________________________________________\n",
            "conv2_block3_3_conv (Conv2D)    (None, 56, 56, 256)  16640       conv2_block3_2_relu[0][0]        \n",
            "__________________________________________________________________________________________________\n",
            "conv2_block3_3_bn (BatchNormali (None, 56, 56, 256)  1024        conv2_block3_3_conv[0][0]        \n",
            "__________________________________________________________________________________________________\n",
            "conv2_block3_add (Add)          (None, 56, 56, 256)  0           conv2_block2_out[0][0]           \n",
            "                                                                 conv2_block3_3_bn[0][0]          \n",
            "__________________________________________________________________________________________________\n",
            "conv2_block3_out (Activation)   (None, 56, 56, 256)  0           conv2_block3_add[0][0]           \n",
            "__________________________________________________________________________________________________\n",
            "conv3_block1_1_conv (Conv2D)    (None, 28, 28, 128)  32896       conv2_block3_out[0][0]           \n",
            "__________________________________________________________________________________________________\n",
            "conv3_block1_1_bn (BatchNormali (None, 28, 28, 128)  512         conv3_block1_1_conv[0][0]        \n",
            "__________________________________________________________________________________________________\n",
            "conv3_block1_1_relu (Activation (None, 28, 28, 128)  0           conv3_block1_1_bn[0][0]          \n",
            "__________________________________________________________________________________________________\n",
            "conv3_block1_2_conv (Conv2D)    (None, 28, 28, 128)  147584      conv3_block1_1_relu[0][0]        \n",
            "__________________________________________________________________________________________________\n",
            "conv3_block1_2_bn (BatchNormali (None, 28, 28, 128)  512         conv3_block1_2_conv[0][0]        \n",
            "__________________________________________________________________________________________________\n",
            "conv3_block1_2_relu (Activation (None, 28, 28, 128)  0           conv3_block1_2_bn[0][0]          \n",
            "__________________________________________________________________________________________________\n",
            "conv3_block1_0_conv (Conv2D)    (None, 28, 28, 512)  131584      conv2_block3_out[0][0]           \n",
            "__________________________________________________________________________________________________\n",
            "conv3_block1_3_conv (Conv2D)    (None, 28, 28, 512)  66048       conv3_block1_2_relu[0][0]        \n",
            "__________________________________________________________________________________________________\n",
            "conv3_block1_0_bn (BatchNormali (None, 28, 28, 512)  2048        conv3_block1_0_conv[0][0]        \n",
            "__________________________________________________________________________________________________\n",
            "conv3_block1_3_bn (BatchNormali (None, 28, 28, 512)  2048        conv3_block1_3_conv[0][0]        \n",
            "__________________________________________________________________________________________________\n",
            "conv3_block1_add (Add)          (None, 28, 28, 512)  0           conv3_block1_0_bn[0][0]          \n",
            "                                                                 conv3_block1_3_bn[0][0]          \n",
            "__________________________________________________________________________________________________\n",
            "conv3_block1_out (Activation)   (None, 28, 28, 512)  0           conv3_block1_add[0][0]           \n",
            "__________________________________________________________________________________________________\n",
            "conv3_block2_1_conv (Conv2D)    (None, 28, 28, 128)  65664       conv3_block1_out[0][0]           \n",
            "__________________________________________________________________________________________________\n",
            "conv3_block2_1_bn (BatchNormali (None, 28, 28, 128)  512         conv3_block2_1_conv[0][0]        \n",
            "__________________________________________________________________________________________________\n",
            "conv3_block2_1_relu (Activation (None, 28, 28, 128)  0           conv3_block2_1_bn[0][0]          \n",
            "__________________________________________________________________________________________________\n",
            "conv3_block2_2_conv (Conv2D)    (None, 28, 28, 128)  147584      conv3_block2_1_relu[0][0]        \n",
            "__________________________________________________________________________________________________\n",
            "conv3_block2_2_bn (BatchNormali (None, 28, 28, 128)  512         conv3_block2_2_conv[0][0]        \n",
            "__________________________________________________________________________________________________\n",
            "conv3_block2_2_relu (Activation (None, 28, 28, 128)  0           conv3_block2_2_bn[0][0]          \n",
            "__________________________________________________________________________________________________\n",
            "conv3_block2_3_conv (Conv2D)    (None, 28, 28, 512)  66048       conv3_block2_2_relu[0][0]        \n",
            "__________________________________________________________________________________________________\n",
            "conv3_block2_3_bn (BatchNormali (None, 28, 28, 512)  2048        conv3_block2_3_conv[0][0]        \n",
            "__________________________________________________________________________________________________\n",
            "conv3_block2_add (Add)          (None, 28, 28, 512)  0           conv3_block1_out[0][0]           \n",
            "                                                                 conv3_block2_3_bn[0][0]          \n",
            "__________________________________________________________________________________________________\n",
            "conv3_block2_out (Activation)   (None, 28, 28, 512)  0           conv3_block2_add[0][0]           \n",
            "__________________________________________________________________________________________________\n",
            "conv3_block3_1_conv (Conv2D)    (None, 28, 28, 128)  65664       conv3_block2_out[0][0]           \n",
            "__________________________________________________________________________________________________\n",
            "conv3_block3_1_bn (BatchNormali (None, 28, 28, 128)  512         conv3_block3_1_conv[0][0]        \n",
            "__________________________________________________________________________________________________\n",
            "conv3_block3_1_relu (Activation (None, 28, 28, 128)  0           conv3_block3_1_bn[0][0]          \n",
            "__________________________________________________________________________________________________\n",
            "conv3_block3_2_conv (Conv2D)    (None, 28, 28, 128)  147584      conv3_block3_1_relu[0][0]        \n",
            "__________________________________________________________________________________________________\n",
            "conv3_block3_2_bn (BatchNormali (None, 28, 28, 128)  512         conv3_block3_2_conv[0][0]        \n",
            "__________________________________________________________________________________________________\n",
            "conv3_block3_2_relu (Activation (None, 28, 28, 128)  0           conv3_block3_2_bn[0][0]          \n",
            "__________________________________________________________________________________________________\n",
            "conv3_block3_3_conv (Conv2D)    (None, 28, 28, 512)  66048       conv3_block3_2_relu[0][0]        \n",
            "__________________________________________________________________________________________________\n",
            "conv3_block3_3_bn (BatchNormali (None, 28, 28, 512)  2048        conv3_block3_3_conv[0][0]        \n",
            "__________________________________________________________________________________________________\n",
            "conv3_block3_add (Add)          (None, 28, 28, 512)  0           conv3_block2_out[0][0]           \n",
            "                                                                 conv3_block3_3_bn[0][0]          \n",
            "__________________________________________________________________________________________________\n",
            "conv3_block3_out (Activation)   (None, 28, 28, 512)  0           conv3_block3_add[0][0]           \n",
            "__________________________________________________________________________________________________\n",
            "conv3_block4_1_conv (Conv2D)    (None, 28, 28, 128)  65664       conv3_block3_out[0][0]           \n",
            "__________________________________________________________________________________________________\n",
            "conv3_block4_1_bn (BatchNormali (None, 28, 28, 128)  512         conv3_block4_1_conv[0][0]        \n",
            "__________________________________________________________________________________________________\n",
            "conv3_block4_1_relu (Activation (None, 28, 28, 128)  0           conv3_block4_1_bn[0][0]          \n",
            "__________________________________________________________________________________________________\n",
            "conv3_block4_2_conv (Conv2D)    (None, 28, 28, 128)  147584      conv3_block4_1_relu[0][0]        \n",
            "__________________________________________________________________________________________________\n",
            "conv3_block4_2_bn (BatchNormali (None, 28, 28, 128)  512         conv3_block4_2_conv[0][0]        \n",
            "__________________________________________________________________________________________________\n",
            "conv3_block4_2_relu (Activation (None, 28, 28, 128)  0           conv3_block4_2_bn[0][0]          \n",
            "__________________________________________________________________________________________________\n",
            "conv3_block4_3_conv (Conv2D)    (None, 28, 28, 512)  66048       conv3_block4_2_relu[0][0]        \n",
            "__________________________________________________________________________________________________\n",
            "conv3_block4_3_bn (BatchNormali (None, 28, 28, 512)  2048        conv3_block4_3_conv[0][0]        \n",
            "__________________________________________________________________________________________________\n",
            "conv3_block4_add (Add)          (None, 28, 28, 512)  0           conv3_block3_out[0][0]           \n",
            "                                                                 conv3_block4_3_bn[0][0]          \n",
            "__________________________________________________________________________________________________\n",
            "conv3_block4_out (Activation)   (None, 28, 28, 512)  0           conv3_block4_add[0][0]           \n",
            "__________________________________________________________________________________________________\n",
            "conv4_block1_1_conv (Conv2D)    (None, 14, 14, 256)  131328      conv3_block4_out[0][0]           \n",
            "__________________________________________________________________________________________________\n",
            "conv4_block1_1_bn (BatchNormali (None, 14, 14, 256)  1024        conv4_block1_1_conv[0][0]        \n",
            "__________________________________________________________________________________________________\n",
            "conv4_block1_1_relu (Activation (None, 14, 14, 256)  0           conv4_block1_1_bn[0][0]          \n",
            "__________________________________________________________________________________________________\n",
            "conv4_block1_2_conv (Conv2D)    (None, 14, 14, 256)  590080      conv4_block1_1_relu[0][0]        \n",
            "__________________________________________________________________________________________________\n",
            "conv4_block1_2_bn (BatchNormali (None, 14, 14, 256)  1024        conv4_block1_2_conv[0][0]        \n",
            "__________________________________________________________________________________________________\n",
            "conv4_block1_2_relu (Activation (None, 14, 14, 256)  0           conv4_block1_2_bn[0][0]          \n",
            "__________________________________________________________________________________________________\n",
            "conv4_block1_0_conv (Conv2D)    (None, 14, 14, 1024) 525312      conv3_block4_out[0][0]           \n",
            "__________________________________________________________________________________________________\n",
            "conv4_block1_3_conv (Conv2D)    (None, 14, 14, 1024) 263168      conv4_block1_2_relu[0][0]        \n",
            "__________________________________________________________________________________________________\n",
            "conv4_block1_0_bn (BatchNormali (None, 14, 14, 1024) 4096        conv4_block1_0_conv[0][0]        \n",
            "__________________________________________________________________________________________________\n",
            "conv4_block1_3_bn (BatchNormali (None, 14, 14, 1024) 4096        conv4_block1_3_conv[0][0]        \n",
            "__________________________________________________________________________________________________\n",
            "conv4_block1_add (Add)          (None, 14, 14, 1024) 0           conv4_block1_0_bn[0][0]          \n",
            "                                                                 conv4_block1_3_bn[0][0]          \n",
            "__________________________________________________________________________________________________\n",
            "conv4_block1_out (Activation)   (None, 14, 14, 1024) 0           conv4_block1_add[0][0]           \n",
            "__________________________________________________________________________________________________\n",
            "conv4_block2_1_conv (Conv2D)    (None, 14, 14, 256)  262400      conv4_block1_out[0][0]           \n",
            "__________________________________________________________________________________________________\n",
            "conv4_block2_1_bn (BatchNormali (None, 14, 14, 256)  1024        conv4_block2_1_conv[0][0]        \n",
            "__________________________________________________________________________________________________\n",
            "conv4_block2_1_relu (Activation (None, 14, 14, 256)  0           conv4_block2_1_bn[0][0]          \n",
            "__________________________________________________________________________________________________\n",
            "conv4_block2_2_conv (Conv2D)    (None, 14, 14, 256)  590080      conv4_block2_1_relu[0][0]        \n",
            "__________________________________________________________________________________________________\n",
            "conv4_block2_2_bn (BatchNormali (None, 14, 14, 256)  1024        conv4_block2_2_conv[0][0]        \n",
            "__________________________________________________________________________________________________\n",
            "conv4_block2_2_relu (Activation (None, 14, 14, 256)  0           conv4_block2_2_bn[0][0]          \n",
            "__________________________________________________________________________________________________\n",
            "conv4_block2_3_conv (Conv2D)    (None, 14, 14, 1024) 263168      conv4_block2_2_relu[0][0]        \n",
            "__________________________________________________________________________________________________\n",
            "conv4_block2_3_bn (BatchNormali (None, 14, 14, 1024) 4096        conv4_block2_3_conv[0][0]        \n",
            "__________________________________________________________________________________________________\n",
            "conv4_block2_add (Add)          (None, 14, 14, 1024) 0           conv4_block1_out[0][0]           \n",
            "                                                                 conv4_block2_3_bn[0][0]          \n",
            "__________________________________________________________________________________________________\n",
            "conv4_block2_out (Activation)   (None, 14, 14, 1024) 0           conv4_block2_add[0][0]           \n",
            "__________________________________________________________________________________________________\n",
            "conv4_block3_1_conv (Conv2D)    (None, 14, 14, 256)  262400      conv4_block2_out[0][0]           \n",
            "__________________________________________________________________________________________________\n",
            "conv4_block3_1_bn (BatchNormali (None, 14, 14, 256)  1024        conv4_block3_1_conv[0][0]        \n",
            "__________________________________________________________________________________________________\n",
            "conv4_block3_1_relu (Activation (None, 14, 14, 256)  0           conv4_block3_1_bn[0][0]          \n",
            "__________________________________________________________________________________________________\n",
            "conv4_block3_2_conv (Conv2D)    (None, 14, 14, 256)  590080      conv4_block3_1_relu[0][0]        \n",
            "__________________________________________________________________________________________________\n",
            "conv4_block3_2_bn (BatchNormali (None, 14, 14, 256)  1024        conv4_block3_2_conv[0][0]        \n",
            "__________________________________________________________________________________________________\n",
            "conv4_block3_2_relu (Activation (None, 14, 14, 256)  0           conv4_block3_2_bn[0][0]          \n",
            "__________________________________________________________________________________________________\n",
            "conv4_block3_3_conv (Conv2D)    (None, 14, 14, 1024) 263168      conv4_block3_2_relu[0][0]        \n",
            "__________________________________________________________________________________________________\n",
            "conv4_block3_3_bn (BatchNormali (None, 14, 14, 1024) 4096        conv4_block3_3_conv[0][0]        \n",
            "__________________________________________________________________________________________________\n",
            "conv4_block3_add (Add)          (None, 14, 14, 1024) 0           conv4_block2_out[0][0]           \n",
            "                                                                 conv4_block3_3_bn[0][0]          \n",
            "__________________________________________________________________________________________________\n",
            "conv4_block3_out (Activation)   (None, 14, 14, 1024) 0           conv4_block3_add[0][0]           \n",
            "__________________________________________________________________________________________________\n",
            "conv4_block4_1_conv (Conv2D)    (None, 14, 14, 256)  262400      conv4_block3_out[0][0]           \n",
            "__________________________________________________________________________________________________\n",
            "conv4_block4_1_bn (BatchNormali (None, 14, 14, 256)  1024        conv4_block4_1_conv[0][0]        \n",
            "__________________________________________________________________________________________________\n",
            "conv4_block4_1_relu (Activation (None, 14, 14, 256)  0           conv4_block4_1_bn[0][0]          \n",
            "__________________________________________________________________________________________________\n",
            "conv4_block4_2_conv (Conv2D)    (None, 14, 14, 256)  590080      conv4_block4_1_relu[0][0]        \n",
            "__________________________________________________________________________________________________\n",
            "conv4_block4_2_bn (BatchNormali (None, 14, 14, 256)  1024        conv4_block4_2_conv[0][0]        \n",
            "__________________________________________________________________________________________________\n",
            "conv4_block4_2_relu (Activation (None, 14, 14, 256)  0           conv4_block4_2_bn[0][0]          \n",
            "__________________________________________________________________________________________________\n",
            "conv4_block4_3_conv (Conv2D)    (None, 14, 14, 1024) 263168      conv4_block4_2_relu[0][0]        \n",
            "__________________________________________________________________________________________________\n",
            "conv4_block4_3_bn (BatchNormali (None, 14, 14, 1024) 4096        conv4_block4_3_conv[0][0]        \n",
            "__________________________________________________________________________________________________\n",
            "conv4_block4_add (Add)          (None, 14, 14, 1024) 0           conv4_block3_out[0][0]           \n",
            "                                                                 conv4_block4_3_bn[0][0]          \n",
            "__________________________________________________________________________________________________\n",
            "conv4_block4_out (Activation)   (None, 14, 14, 1024) 0           conv4_block4_add[0][0]           \n",
            "__________________________________________________________________________________________________\n",
            "conv4_block5_1_conv (Conv2D)    (None, 14, 14, 256)  262400      conv4_block4_out[0][0]           \n",
            "__________________________________________________________________________________________________\n",
            "conv4_block5_1_bn (BatchNormali (None, 14, 14, 256)  1024        conv4_block5_1_conv[0][0]        \n",
            "__________________________________________________________________________________________________\n",
            "conv4_block5_1_relu (Activation (None, 14, 14, 256)  0           conv4_block5_1_bn[0][0]          \n",
            "__________________________________________________________________________________________________\n",
            "conv4_block5_2_conv (Conv2D)    (None, 14, 14, 256)  590080      conv4_block5_1_relu[0][0]        \n",
            "__________________________________________________________________________________________________\n",
            "conv4_block5_2_bn (BatchNormali (None, 14, 14, 256)  1024        conv4_block5_2_conv[0][0]        \n",
            "__________________________________________________________________________________________________\n",
            "conv4_block5_2_relu (Activation (None, 14, 14, 256)  0           conv4_block5_2_bn[0][0]          \n",
            "__________________________________________________________________________________________________\n",
            "conv4_block5_3_conv (Conv2D)    (None, 14, 14, 1024) 263168      conv4_block5_2_relu[0][0]        \n",
            "__________________________________________________________________________________________________\n",
            "conv4_block5_3_bn (BatchNormali (None, 14, 14, 1024) 4096        conv4_block5_3_conv[0][0]        \n",
            "__________________________________________________________________________________________________\n",
            "conv4_block5_add (Add)          (None, 14, 14, 1024) 0           conv4_block4_out[0][0]           \n",
            "                                                                 conv4_block5_3_bn[0][0]          \n",
            "__________________________________________________________________________________________________\n",
            "conv4_block5_out (Activation)   (None, 14, 14, 1024) 0           conv4_block5_add[0][0]           \n",
            "__________________________________________________________________________________________________\n",
            "conv4_block6_1_conv (Conv2D)    (None, 14, 14, 256)  262400      conv4_block5_out[0][0]           \n",
            "__________________________________________________________________________________________________\n",
            "conv4_block6_1_bn (BatchNormali (None, 14, 14, 256)  1024        conv4_block6_1_conv[0][0]        \n",
            "__________________________________________________________________________________________________\n",
            "conv4_block6_1_relu (Activation (None, 14, 14, 256)  0           conv4_block6_1_bn[0][0]          \n",
            "__________________________________________________________________________________________________\n",
            "conv4_block6_2_conv (Conv2D)    (None, 14, 14, 256)  590080      conv4_block6_1_relu[0][0]        \n",
            "__________________________________________________________________________________________________\n",
            "conv4_block6_2_bn (BatchNormali (None, 14, 14, 256)  1024        conv4_block6_2_conv[0][0]        \n",
            "__________________________________________________________________________________________________\n",
            "conv4_block6_2_relu (Activation (None, 14, 14, 256)  0           conv4_block6_2_bn[0][0]          \n",
            "__________________________________________________________________________________________________\n",
            "conv4_block6_3_conv (Conv2D)    (None, 14, 14, 1024) 263168      conv4_block6_2_relu[0][0]        \n",
            "__________________________________________________________________________________________________\n",
            "conv4_block6_3_bn (BatchNormali (None, 14, 14, 1024) 4096        conv4_block6_3_conv[0][0]        \n",
            "__________________________________________________________________________________________________\n",
            "conv4_block6_add (Add)          (None, 14, 14, 1024) 0           conv4_block5_out[0][0]           \n",
            "                                                                 conv4_block6_3_bn[0][0]          \n",
            "__________________________________________________________________________________________________\n",
            "conv4_block6_out (Activation)   (None, 14, 14, 1024) 0           conv4_block6_add[0][0]           \n",
            "__________________________________________________________________________________________________\n",
            "conv5_block1_1_conv (Conv2D)    (None, 7, 7, 512)    524800      conv4_block6_out[0][0]           \n",
            "__________________________________________________________________________________________________\n",
            "conv5_block1_1_bn (BatchNormali (None, 7, 7, 512)    2048        conv5_block1_1_conv[0][0]        \n",
            "__________________________________________________________________________________________________\n",
            "conv5_block1_1_relu (Activation (None, 7, 7, 512)    0           conv5_block1_1_bn[0][0]          \n",
            "__________________________________________________________________________________________________\n",
            "conv5_block1_2_conv (Conv2D)    (None, 7, 7, 512)    2359808     conv5_block1_1_relu[0][0]        \n",
            "__________________________________________________________________________________________________\n",
            "conv5_block1_2_bn (BatchNormali (None, 7, 7, 512)    2048        conv5_block1_2_conv[0][0]        \n",
            "__________________________________________________________________________________________________\n",
            "conv5_block1_2_relu (Activation (None, 7, 7, 512)    0           conv5_block1_2_bn[0][0]          \n",
            "__________________________________________________________________________________________________\n",
            "conv5_block1_0_conv (Conv2D)    (None, 7, 7, 2048)   2099200     conv4_block6_out[0][0]           \n",
            "__________________________________________________________________________________________________\n",
            "conv5_block1_3_conv (Conv2D)    (None, 7, 7, 2048)   1050624     conv5_block1_2_relu[0][0]        \n",
            "__________________________________________________________________________________________________\n",
            "conv5_block1_0_bn (BatchNormali (None, 7, 7, 2048)   8192        conv5_block1_0_conv[0][0]        \n",
            "__________________________________________________________________________________________________\n",
            "conv5_block1_3_bn (BatchNormali (None, 7, 7, 2048)   8192        conv5_block1_3_conv[0][0]        \n",
            "__________________________________________________________________________________________________\n",
            "conv5_block1_add (Add)          (None, 7, 7, 2048)   0           conv5_block1_0_bn[0][0]          \n",
            "                                                                 conv5_block1_3_bn[0][0]          \n",
            "__________________________________________________________________________________________________\n",
            "conv5_block1_out (Activation)   (None, 7, 7, 2048)   0           conv5_block1_add[0][0]           \n",
            "__________________________________________________________________________________________________\n",
            "conv5_block2_1_conv (Conv2D)    (None, 7, 7, 512)    1049088     conv5_block1_out[0][0]           \n",
            "__________________________________________________________________________________________________\n",
            "conv5_block2_1_bn (BatchNormali (None, 7, 7, 512)    2048        conv5_block2_1_conv[0][0]        \n",
            "__________________________________________________________________________________________________\n",
            "conv5_block2_1_relu (Activation (None, 7, 7, 512)    0           conv5_block2_1_bn[0][0]          \n",
            "__________________________________________________________________________________________________\n",
            "conv5_block2_2_conv (Conv2D)    (None, 7, 7, 512)    2359808     conv5_block2_1_relu[0][0]        \n",
            "__________________________________________________________________________________________________\n",
            "conv5_block2_2_bn (BatchNormali (None, 7, 7, 512)    2048        conv5_block2_2_conv[0][0]        \n",
            "__________________________________________________________________________________________________\n",
            "conv5_block2_2_relu (Activation (None, 7, 7, 512)    0           conv5_block2_2_bn[0][0]          \n",
            "__________________________________________________________________________________________________\n",
            "conv5_block2_3_conv (Conv2D)    (None, 7, 7, 2048)   1050624     conv5_block2_2_relu[0][0]        \n",
            "__________________________________________________________________________________________________\n",
            "conv5_block2_3_bn (BatchNormali (None, 7, 7, 2048)   8192        conv5_block2_3_conv[0][0]        \n",
            "__________________________________________________________________________________________________\n",
            "conv5_block2_add (Add)          (None, 7, 7, 2048)   0           conv5_block1_out[0][0]           \n",
            "                                                                 conv5_block2_3_bn[0][0]          \n",
            "__________________________________________________________________________________________________\n",
            "conv5_block2_out (Activation)   (None, 7, 7, 2048)   0           conv5_block2_add[0][0]           \n",
            "__________________________________________________________________________________________________\n",
            "conv5_block3_1_conv (Conv2D)    (None, 7, 7, 512)    1049088     conv5_block2_out[0][0]           \n",
            "__________________________________________________________________________________________________\n",
            "conv5_block3_1_bn (BatchNormali (None, 7, 7, 512)    2048        conv5_block3_1_conv[0][0]        \n",
            "__________________________________________________________________________________________________\n",
            "conv5_block3_1_relu (Activation (None, 7, 7, 512)    0           conv5_block3_1_bn[0][0]          \n",
            "__________________________________________________________________________________________________\n",
            "conv5_block3_2_conv (Conv2D)    (None, 7, 7, 512)    2359808     conv5_block3_1_relu[0][0]        \n",
            "__________________________________________________________________________________________________\n",
            "conv5_block3_2_bn (BatchNormali (None, 7, 7, 512)    2048        conv5_block3_2_conv[0][0]        \n",
            "__________________________________________________________________________________________________\n",
            "conv5_block3_2_relu (Activation (None, 7, 7, 512)    0           conv5_block3_2_bn[0][0]          \n",
            "__________________________________________________________________________________________________\n",
            "conv5_block3_3_conv (Conv2D)    (None, 7, 7, 2048)   1050624     conv5_block3_2_relu[0][0]        \n",
            "__________________________________________________________________________________________________\n",
            "conv5_block3_3_bn (BatchNormali (None, 7, 7, 2048)   8192        conv5_block3_3_conv[0][0]        \n",
            "__________________________________________________________________________________________________\n",
            "conv5_block3_add (Add)          (None, 7, 7, 2048)   0           conv5_block2_out[0][0]           \n",
            "                                                                 conv5_block3_3_bn[0][0]          \n",
            "__________________________________________________________________________________________________\n",
            "conv5_block3_out (Activation)   (None, 7, 7, 2048)   0           conv5_block3_add[0][0]           \n",
            "__________________________________________________________________________________________________\n",
            "average_pooling2d (AveragePooli (None, 1, 1, 2048)   0           conv5_block3_out[0][0]           \n",
            "__________________________________________________________________________________________________\n",
            "flatten (Flatten)               (None, 2048)         0           average_pooling2d[0][0]          \n",
            "__________________________________________________________________________________________________\n",
            "dense (Dense)                   (None, 200)          409800      flatten[0][0]                    \n",
            "==================================================================================================\n",
            "Total params: 23,997,512\n",
            "Trainable params: 23,944,392\n",
            "Non-trainable params: 53,120\n",
            "__________________________________________________________________________________________________\n",
            "None\n"
          ],
          "name": "stdout"
        }
      ]
    },
    {
      "cell_type": "code",
      "metadata": {
        "id": "PynaLXoAvt8Q"
      },
      "source": [
        "# print(baseModel.summary())"
      ],
      "execution_count": null,
      "outputs": []
    },
    {
      "cell_type": "markdown",
      "metadata": {
        "id": "lpMdKhKV_TCO"
      },
      "source": [
        "# Create Callbacks and generators"
      ]
    },
    {
      "cell_type": "code",
      "metadata": {
        "id": "Fyrxgj0aPY_v"
      },
      "source": [
        "\n",
        "early_stop = keras.callbacks.EarlyStopping(monitor=\"val_loss\", min_delta=0, patience=10, verbose=0, mode=\"auto\")\n"
      ],
      "execution_count": 13,
      "outputs": []
    },
    {
      "cell_type": "code",
      "metadata": {
        "colab": {
          "base_uri": "https://localhost:8080/"
        },
        "id": "bZuwty9yUU4n",
        "outputId": "ef021da4-8b1b-4204-e632-7e9107110c9b"
      },
      "source": [
        "# Create DataGenerators (rescale, rotate, shift and flip the images)\n",
        "train_datagen = ImageDataGenerator(rescale=1./255, rotation_range=20, width_shift_range=0.2,height_shift_range=0.2, horizontal_flip=True, fill_mode=\"nearest\")\n",
        "validation_datagen = ImageDataGenerator(rescale=1./255)\n",
        "train_batchsize = 100\n",
        "validation_batchsize = 10\n",
        "\n",
        "# Apply ImageDataGenerator to our train and validation data\n",
        "train_generator = train_datagen.flow_from_directory(train_dir,target_size=(image_size, image_size), batch_size=train_batchsize, class_mode=\"categorical\")\n",
        "validation_generator = validation_datagen.flow_from_directory(val_dir, target_size=(image_size, image_size), batch_size=validation_batchsize, class_mode=\"categorical\", shuffle=False)"
      ],
      "execution_count": 14,
      "outputs": [
        {
          "output_type": "stream",
          "text": [
            "Found 7063 images belonging to 200 classes.\n",
            "Found 2366 images belonging to 200 classes.\n"
          ],
          "name": "stdout"
        }
      ]
    },
    {
      "cell_type": "markdown",
      "metadata": {
        "id": "KpMSGjvo_bPp"
      },
      "source": [
        "# Compile the model and fit"
      ]
    },
    {
      "cell_type": "code",
      "metadata": {
        "colab": {
          "base_uri": "https://localhost:8080/"
        },
        "id": "o9O56fooUrzN",
        "outputId": "a2081560-bddc-49f4-edc0-7147232c0b0d"
      },
      "source": [
        "# Compiling the model\n",
        "model.compile(loss=\"categorical_crossentropy\", optimizer=optimizers.Adam(lr=1e-4), metrics=[\"accuracy\"])\n",
        "\n",
        "history = model.fit(train_generator, callbacks=[early_stop],\n",
        "                         steps_per_epoch=train_generator.samples/train_generator.batch_size, epochs=50,\n",
        "                         validation_data=validation_generator,\n",
        "                         validation_steps=validation_generator.samples/validation_batchsize, verbose=1)"
      ],
      "execution_count": 16,
      "outputs": [
        {
          "output_type": "stream",
          "text": [
            "Epoch 1/50\n",
            "71/70 [==============================] - 2190s 31s/step - loss: 4.4111 - accuracy: 0.1386 - val_loss: 5.6900 - val_accuracy: 0.0038\n",
            "Epoch 2/50\n",
            "71/70 [==============================] - 110s 2s/step - loss: 2.0655 - accuracy: 0.5288 - val_loss: 5.5035 - val_accuracy: 0.0051\n",
            "Epoch 3/50\n",
            "71/70 [==============================] - 108s 2s/step - loss: 1.1577 - accuracy: 0.7226 - val_loss: 5.3710 - val_accuracy: 0.0042\n",
            "Epoch 4/50\n",
            "71/70 [==============================] - 109s 2s/step - loss: 0.7459 - accuracy: 0.8189 - val_loss: 5.3645 - val_accuracy: 0.0076\n",
            "Epoch 5/50\n",
            "71/70 [==============================] - 108s 2s/step - loss: 0.4886 - accuracy: 0.8884 - val_loss: 5.3583 - val_accuracy: 0.0106\n",
            "Epoch 6/50\n",
            "71/70 [==============================] - 109s 2s/step - loss: 0.3300 - accuracy: 0.9312 - val_loss: 5.3225 - val_accuracy: 0.0110\n",
            "Epoch 7/50\n",
            "71/70 [==============================] - 109s 2s/step - loss: 0.2449 - accuracy: 0.9502 - val_loss: 5.4282 - val_accuracy: 0.0118\n",
            "Epoch 8/50\n",
            "71/70 [==============================] - 108s 2s/step - loss: 0.1789 - accuracy: 0.9673 - val_loss: 5.5501 - val_accuracy: 0.0232\n",
            "Epoch 9/50\n",
            "71/70 [==============================] - 108s 2s/step - loss: 0.1214 - accuracy: 0.9813 - val_loss: 5.4079 - val_accuracy: 0.0287\n",
            "Epoch 10/50\n",
            "71/70 [==============================] - 108s 2s/step - loss: 0.0865 - accuracy: 0.9881 - val_loss: 5.0679 - val_accuracy: 0.0752\n",
            "Epoch 11/50\n",
            "71/70 [==============================] - 108s 2s/step - loss: 0.0794 - accuracy: 0.9878 - val_loss: 4.4394 - val_accuracy: 0.1517\n",
            "Epoch 12/50\n",
            "71/70 [==============================] - 108s 2s/step - loss: 0.0561 - accuracy: 0.9932 - val_loss: 3.7526 - val_accuracy: 0.2616\n",
            "Epoch 13/50\n",
            "71/70 [==============================] - 108s 2s/step - loss: 0.0514 - accuracy: 0.9941 - val_loss: 2.8721 - val_accuracy: 0.3795\n",
            "Epoch 14/50\n",
            "71/70 [==============================] - 107s 2s/step - loss: 0.0469 - accuracy: 0.9931 - val_loss: 2.2692 - val_accuracy: 0.4755\n",
            "Epoch 15/50\n",
            "71/70 [==============================] - 108s 2s/step - loss: 0.0412 - accuracy: 0.9943 - val_loss: 1.6967 - val_accuracy: 0.5934\n",
            "Epoch 16/50\n",
            "71/70 [==============================] - 108s 2s/step - loss: 0.0376 - accuracy: 0.9938 - val_loss: 1.5550 - val_accuracy: 0.6331\n",
            "Epoch 17/50\n",
            "71/70 [==============================] - 108s 2s/step - loss: 0.0303 - accuracy: 0.9959 - val_loss: 1.4390 - val_accuracy: 0.6593\n",
            "Epoch 18/50\n",
            "71/70 [==============================] - 109s 2s/step - loss: 0.0229 - accuracy: 0.9976 - val_loss: 1.3693 - val_accuracy: 0.6686\n",
            "Epoch 19/50\n",
            "71/70 [==============================] - 108s 2s/step - loss: 0.0301 - accuracy: 0.9943 - val_loss: 1.4418 - val_accuracy: 0.6471\n",
            "Epoch 20/50\n",
            "71/70 [==============================] - 108s 2s/step - loss: 0.0456 - accuracy: 0.9911 - val_loss: 1.6801 - val_accuracy: 0.6310\n",
            "Epoch 21/50\n",
            "71/70 [==============================] - 109s 2s/step - loss: 0.0398 - accuracy: 0.9932 - val_loss: 1.5100 - val_accuracy: 0.6615\n",
            "Epoch 22/50\n",
            "71/70 [==============================] - 107s 2s/step - loss: 0.0393 - accuracy: 0.9929 - val_loss: 1.6700 - val_accuracy: 0.6352\n",
            "Epoch 23/50\n",
            "71/70 [==============================] - 108s 2s/step - loss: 0.0680 - accuracy: 0.9843 - val_loss: 1.8979 - val_accuracy: 0.5841\n",
            "Epoch 24/50\n",
            "71/70 [==============================] - 108s 2s/step - loss: 0.0693 - accuracy: 0.9849 - val_loss: 1.7417 - val_accuracy: 0.5816\n",
            "Epoch 25/50\n",
            "71/70 [==============================] - 107s 2s/step - loss: 0.0551 - accuracy: 0.9897 - val_loss: 1.5501 - val_accuracy: 0.6412\n",
            "Epoch 26/50\n",
            "71/70 [==============================] - 108s 2s/step - loss: 0.0360 - accuracy: 0.9922 - val_loss: 1.5986 - val_accuracy: 0.6467\n",
            "Epoch 27/50\n",
            "71/70 [==============================] - 108s 2s/step - loss: 0.0346 - accuracy: 0.9933 - val_loss: 1.6192 - val_accuracy: 0.6441\n",
            "Epoch 28/50\n",
            "71/70 [==============================] - 112s 2s/step - loss: 0.0350 - accuracy: 0.9935 - val_loss: 1.6856 - val_accuracy: 0.6251\n"
          ],
          "name": "stdout"
        }
      ]
    },
    {
      "cell_type": "markdown",
      "metadata": {
        "id": "nWAlDewp1PJ2"
      },
      "source": [
        "# Saving model\n"
      ]
    },
    {
      "cell_type": "code",
      "metadata": {
        "colab": {
          "base_uri": "https://localhost:8080/"
        },
        "id": "MN-W4JLyE2Mq",
        "outputId": "66d6311d-ceca-437c-e4d9-24ccee9eab1f"
      },
      "source": [
        "model.save(\"drive/MyDrive/Resnet50_oneDense_e50\")"
      ],
      "execution_count": 17,
      "outputs": [
        {
          "output_type": "stream",
          "text": [
            "WARNING:tensorflow:From /usr/local/lib/python3.6/dist-packages/tensorflow/python/ops/resource_variable_ops.py:1817: calling BaseResourceVariable.__init__ (from tensorflow.python.ops.resource_variable_ops) with constraint is deprecated and will be removed in a future version.\n",
            "Instructions for updating:\n",
            "If using Keras pass *_constraint arguments to layers.\n",
            "INFO:tensorflow:Assets written to: drive/MyDrive/Resnet50_oneDense_e50/assets\n"
          ],
          "name": "stdout"
        }
      ]
    },
    {
      "cell_type": "code",
      "metadata": {
        "id": "Q-xGON9QduA7",
        "colab": {
          "base_uri": "https://localhost:8080/",
          "height": 530
        },
        "outputId": "f09deb7c-f9a4-4930-b3b7-b723417c0359"
      },
      "source": [
        "# learning curves of the training and validation accuracy/loss of ResNet50 model\n",
        "acc = history.history['accuracy']\n",
        "val_acc = history.history['val_accuracy']\n",
        "\n",
        "loss = history.history['loss']\n",
        "val_loss = history.history['val_loss']\n",
        "\n",
        "plt.figure(figsize=(8, 8))\n",
        "plt.subplot(2, 1, 1)\n",
        "plt.plot(acc, label='Training Accuracy')\n",
        "plt.plot(val_acc, label='Validation Accuracy')\n",
        "plt.legend(loc='lower right')\n",
        "plt.ylabel('Accuracy')\n",
        "plt.ylim([min(plt.ylim()),1])\n",
        "plt.title('ResNet50 Model Training and Validation Accuracy')\n",
        "\n",
        "plt.subplot(2, 1, 2)\n",
        "plt.plot(loss, label='Training Loss')\n",
        "plt.plot(val_loss, label='Validation Loss')\n",
        "plt.legend(loc='upper right')\n",
        "plt.ylabel('Cross Entropy')\n",
        "plt.title('ResNet50 Model Training and Validation Loss')\n",
        "plt.xlabel('epoch')\n",
        "plt.show()\n",
        "plt.savefig(\"drive/MyDrive/resnet50_v2_e50.pdf\", dpi=150)"
      ],
      "execution_count": 18,
      "outputs": [
        {
          "output_type": "display_data",
          "data": {
            "image/png": "[encoded data removed]",
            "text/plain": [
              "<Figure size 576x576 with 2 Axes>"
            ]
          },
          "metadata": {
            "tags": [],
            "needs_background": "light"
          }
        },
        {
          "output_type": "display_data",
          "data": {
            "text/plain": [
              "<Figure size 432x288 with 0 Axes>"
            ]
          },
          "metadata": {
            "tags": []
          }
        }
      ]
    },
    {
      "cell_type": "markdown",
      "metadata": {
        "id": "OVJmvZDNMcSq"
      },
      "source": [
        "# Test on new data"
      ]
    },
    {
      "cell_type": "code",
      "metadata": {
        "colab": {
          "base_uri": "https://localhost:8080/"
        },
        "id": "bdcQHsnj0yqr",
        "outputId": "4096e250-5090-4351-e7d0-29ff80068c00"
      },
      "source": [
        "test_datagen = ImageDataGenerator(rescale=1. / 255)\n",
        "test_batchsize = 5\n",
        "test_dir = \"/content/drive/MyDrive/copyCUB_200_2011/test/images\"\n",
        "test_generator = test_datagen.flow_from_directory(test_dir,target_size=(image_size, image_size), \n",
        "                                                  batch_size=test_batchsize, class_mode=\"categorical\", shuffle=False)"
      ],
      "execution_count": 19,
      "outputs": [
        {
          "output_type": "stream",
          "text": [
            "Found 2359 images belonging to 200 classes.\n"
          ],
          "name": "stdout"
        }
      ]
    },
    {
      "cell_type": "code",
      "metadata": {
        "id": "UPBkbNlR7ru6",
        "colab": {
          "base_uri": "https://localhost:8080/"
        },
        "outputId": "9469453f-c8b0-472d-fd3b-17efb61a2deb"
      },
      "source": [
        "target_names = []\n",
        "for key in train_generator.class_indices:\n",
        "    target_names.append(key)\n",
        "# print(target_names)\n",
        "\n",
        "# The keras. evaluate() function will give you the loss value for every batch. \n",
        "# The keras. predict()  function will give you the actual predictions for all samples in a batch, for all batches\n",
        "history = model.evaluate(test_generator, steps=test_generator.samples / test_generator.batch_size, verbose=1)\n",
        "print(history)\n",
        "\n",
        "from sklearn.metrics import classification_report\n",
        "Y_pred = model.predict(test_generator)\n",
        "y_pred = np.argmax(Y_pred, axis=-1)\n",
        "\n",
        "#Print Classification Report\n",
        "print('Classification Report')\n",
        "print(classification_report(test_generator.classes, y_pred, target_names=target_names, digits=4))"
      ],
      "execution_count": 22,
      "outputs": [
        {
          "output_type": "stream",
          "text": [
            "472/471 [==============================] - 14s 31ms/step - loss: 1.7183 - accuracy: 0.6308\n",
            "[1.7183403968811035, 0.6307757496833801]\n",
            "Classification Report\n",
            "                                    precision    recall  f1-score   support\n",
            "\n",
            "        001.Black_footed_Albatross     0.5385    0.5833    0.5600        12\n",
            "              002.Laysan_Albatross     0.6667    0.3333    0.4444        12\n",
            "               003.Sooty_Albatross     0.5000    0.4545    0.4762        11\n",
            "             004.Groove_billed_Ani     1.0000    0.5000    0.6667        12\n",
            "                005.Crested_Auklet     0.7500    0.6667    0.7059         9\n",
            "                  006.Least_Auklet     0.8750    0.8750    0.8750         8\n",
            "               007.Parakeet_Auklet     0.8889    0.8000    0.8421        10\n",
            "             008.Rhinoceros_Auklet     0.8571    0.6667    0.7500         9\n",
            "              009.Brewer_Blackbird     0.3333    0.8333    0.4762        12\n",
            "          010.Red_winged_Blackbird     0.8750    0.5833    0.7000        12\n",
            "               011.Rusty_Blackbird     0.3846    0.4167    0.4000        12\n",
            "       012.Yellow_headed_Blackbird     0.8462    1.0000    0.9167        11\n",
            "                      013.Bobolink     0.9167    0.9167    0.9167        12\n",
            "                014.Indigo_Bunting     0.6875    0.9167    0.7857        12\n",
            "                015.Lazuli_Bunting     0.8889    0.7273    0.8000        11\n",
            "               016.Painted_Bunting     0.6250    0.9091    0.7407        11\n",
            "                      017.Cardinal     1.0000    0.8333    0.9091        12\n",
            "               018.Spotted_Catbird     0.8889    0.8889    0.8889         9\n",
            "                  019.Gray_Catbird     0.5714    0.6667    0.6154        12\n",
            "          020.Yellow_breasted_Chat     1.0000    0.5833    0.7368        12\n",
            "                021.Eastern_Towhee     0.7500    0.5000    0.6000        12\n",
            "              022.Chuck_will_Widow     0.5714    0.7273    0.6400        11\n",
            "              023.Brandt_Cormorant     0.7778    0.5833    0.6667        12\n",
            "           024.Red_faced_Cormorant     0.9167    1.0000    0.9565        11\n",
            "             025.Pelagic_Cormorant     0.4706    0.6667    0.5517        12\n",
            "               026.Bronzed_Cowbird     0.5455    0.5000    0.5217        12\n",
            "                 027.Shiny_Cowbird     0.3000    0.2500    0.2727        12\n",
            "                 028.Brown_Creeper     0.8889    0.6667    0.7619        12\n",
            "                 029.American_Crow     0.3182    0.5833    0.4118        12\n",
            "                     030.Fish_Crow     0.2727    0.2500    0.2609        12\n",
            "           031.Black_billed_Cuckoo     0.7778    0.5833    0.6667        12\n",
            "               032.Mangrove_Cuckoo     0.6000    0.3000    0.4000        10\n",
            "          033.Yellow_billed_Cuckoo     0.2143    0.2500    0.2308        12\n",
            "       034.Gray_crowned_Rosy_Finch     0.7500    0.5000    0.6000        12\n",
            "                  035.Purple_Finch     0.7857    0.9167    0.8462        12\n",
            "              036.Northern_Flicker     0.6429    0.7500    0.6923        12\n",
            "            037.Acadian_Flycatcher     0.2353    0.6667    0.3478        12\n",
            "      038.Great_Crested_Flycatcher     1.0000    0.2500    0.4000        12\n",
            "              039.Least_Flycatcher     0.2857    0.3333    0.3077        12\n",
            "        040.Olive_sided_Flycatcher     1.0000    0.1667    0.2857        12\n",
            "     041.Scissor_tailed_Flycatcher     0.9000    0.7500    0.8182        12\n",
            "          042.Vermilion_Flycatcher     1.0000    0.5000    0.6667        12\n",
            "     043.Yellow_bellied_Flycatcher     0.1250    0.0833    0.1000        12\n",
            "                   044.Frigatebird     0.8750    0.5833    0.7000        12\n",
            "               045.Northern_Fulmar     0.5294    0.7500    0.6207        12\n",
            "                       046.Gadwall     0.5333    0.6667    0.5926        12\n",
            "            047.American_Goldfinch     0.9000    0.7500    0.8182        12\n",
            "            048.European_Goldfinch     0.8462    0.9167    0.8800        12\n",
            "           049.Boat_tailed_Grackle     0.3889    0.5833    0.4667        12\n",
            "                   050.Eared_Grebe     0.8000    0.6667    0.7273        12\n",
            "                  051.Horned_Grebe     0.5714    0.6667    0.6154        12\n",
            "             052.Pied_billed_Grebe     1.0000    0.6667    0.8000        12\n",
            "                 053.Western_Grebe     0.9231    1.0000    0.9600        12\n",
            "                 054.Blue_Grosbeak     0.8000    0.6667    0.7273        12\n",
            "              055.Evening_Grosbeak     1.0000    0.7500    0.8571        12\n",
            "                 056.Pine_Grosbeak     1.0000    0.6667    0.8000        12\n",
            "        057.Rose_breasted_Grosbeak     0.9167    0.9167    0.9167        12\n",
            "              058.Pigeon_Guillemot     0.3333    0.8182    0.4737        11\n",
            "               059.California_Gull     0.2500    0.0833    0.1250        12\n",
            "          060.Glaucous_winged_Gull     0.2727    0.2500    0.2609        12\n",
            "                 061.Heermann_Gull     0.8571    0.5000    0.6316        12\n",
            "                  062.Herring_Gull     0.2273    0.4167    0.2941        12\n",
            "                    063.Ivory_Gull     0.7778    0.5833    0.6667        12\n",
            "              064.Ring_billed_Gull     1.0000    0.3333    0.5000        12\n",
            "             065.Slaty_backed_Gull     0.2500    0.1000    0.1429        10\n",
            "                  066.Western_Gull     0.2857    0.6667    0.4000        12\n",
            "              067.Anna_Hummingbird     0.8333    0.4167    0.5556        12\n",
            "     068.Ruby_throated_Hummingbird     0.5625    0.7500    0.6429        12\n",
            "            069.Rufous_Hummingbird     0.8182    0.7500    0.7826        12\n",
            "               070.Green_Violetear     1.0000    0.9167    0.9565        12\n",
            "            071.Long_tailed_Jaeger     0.3333    0.3333    0.3333        12\n",
            "               072.Pomarine_Jaeger     0.2812    0.7500    0.4091        12\n",
            "                      073.Blue_Jay     0.9167    0.9167    0.9167        12\n",
            "                   074.Florida_Jay     0.6875    0.9167    0.7857        12\n",
            "                     075.Green_Jay     0.8462    0.9167    0.8800        12\n",
            "               076.Dark_eyed_Junco     0.5294    0.7500    0.6207        12\n",
            "             077.Tropical_Kingbird     0.8333    0.8333    0.8333        12\n",
            "                 078.Gray_Kingbird     0.6000    0.7500    0.6667        12\n",
            "             079.Belted_Kingfisher     0.6923    0.7500    0.7200        12\n",
            "              080.Green_Kingfisher     0.9091    0.8333    0.8696        12\n",
            "               081.Pied_Kingfisher     1.0000    0.9167    0.9565        12\n",
            "             082.Ringed_Kingfisher     0.8889    0.6667    0.7619        12\n",
            "     083.White_breasted_Kingfisher     1.0000    1.0000    1.0000        12\n",
            "          084.Red_legged_Kittiwake     0.5000    0.6000    0.5455        10\n",
            "                   085.Horned_Lark     1.0000    0.9167    0.9565        12\n",
            "                  086.Pacific_Loon     1.0000    0.6667    0.8000        12\n",
            "                       087.Mallard     0.6875    0.9167    0.7857        12\n",
            "            088.Western_Meadowlark     0.7692    0.8333    0.8000        12\n",
            "              089.Hooded_Merganser     0.8889    0.6667    0.7619        12\n",
            "        090.Red_breasted_Merganser     1.0000    0.4167    0.5882        12\n",
            "                   091.Mockingbird     0.6250    0.4167    0.5000        12\n",
            "                     092.Nighthawk     0.5882    0.8333    0.6897        12\n",
            "              093.Clark_Nutcracker     0.9167    0.9167    0.9167        12\n",
            "       094.White_breasted_Nuthatch     0.9091    0.8333    0.8696        12\n",
            "              095.Baltimore_Oriole     0.6923    0.7500    0.7200        12\n",
            "                 096.Hooded_Oriole     0.5833    0.5833    0.5833        12\n",
            "                097.Orchard_Oriole     0.7500    0.5000    0.6000        12\n",
            "                  098.Scott_Oriole     1.0000    0.5833    0.7368        12\n",
            "                      099.Ovenbird     0.5714    0.6667    0.6154        12\n",
            "                 100.Brown_Pelican     0.9167    0.9167    0.9167        12\n",
            "                 101.White_Pelican     0.8750    0.7000    0.7778        10\n",
            "            102.Western_Wood_Pewee     0.3000    0.2500    0.2727        12\n",
            "                      103.Sayornis     0.7778    0.5833    0.6667        12\n",
            "                104.American_Pipit     0.7273    0.6667    0.6957        12\n",
            "                105.Whip_poor_Will     0.8000    0.4000    0.5333        10\n",
            "                 106.Horned_Puffin     1.0000    0.7500    0.8571        12\n",
            "                  107.Common_Raven     0.3333    0.1667    0.2222        12\n",
            "            108.White_necked_Raven     1.0000    0.4167    0.5882        12\n",
            "             109.American_Redstart     0.9000    0.7500    0.8182        12\n",
            "                     110.Geococcyx     0.8000    1.0000    0.8889        12\n",
            "             111.Loggerhead_Shrike     0.7000    0.5833    0.6364        12\n",
            "             112.Great_Grey_Shrike     0.7500    0.2500    0.3750        12\n",
            "                 113.Baird_Sparrow     0.8000    0.4000    0.5333        10\n",
            "        114.Black_throated_Sparrow     0.5882    0.8333    0.6897        12\n",
            "                115.Brewer_Sparrow     0.5000    0.3333    0.4000        12\n",
            "              116.Chipping_Sparrow     0.3333    0.7500    0.4615        12\n",
            "          117.Clay_colored_Sparrow     0.4667    0.5833    0.5185        12\n",
            "                 118.House_Sparrow     0.2500    0.7500    0.3750        12\n",
            "                 119.Field_Sparrow     0.2857    0.1667    0.2105        12\n",
            "                   120.Fox_Sparrow     0.4118    0.5833    0.4828        12\n",
            "           121.Grasshopper_Sparrow     0.7143    0.4167    0.5263        12\n",
            "                122.Harris_Sparrow     1.0000    0.2500    0.4000        12\n",
            "               123.Henslow_Sparrow     0.6364    0.5833    0.6087        12\n",
            "              124.Le_Conte_Sparrow     0.7143    0.4167    0.5263        12\n",
            "               125.Lincoln_Sparrow     0.8889    0.6667    0.7619        12\n",
            "   126.Nelson_Sharp_tailed_Sparrow     0.4211    0.6667    0.5161        12\n",
            "              127.Savannah_Sparrow     0.5000    0.6667    0.5714        12\n",
            "               128.Seaside_Sparrow     0.5000    0.8333    0.6250        12\n",
            "                  129.Song_Sparrow     0.2812    0.7500    0.4091        12\n",
            "                  130.Tree_Sparrow     0.1429    0.0833    0.1053        12\n",
            "                131.Vesper_Sparrow     0.6667    0.1667    0.2667        12\n",
            "         132.White_crowned_Sparrow     1.0000    0.6667    0.8000        12\n",
            "        133.White_throated_Sparrow     0.8182    0.7500    0.7826        12\n",
            "          134.Cape_Glossy_Starling     0.9167    0.9167    0.9167        12\n",
            "                  135.Bank_Swallow     0.7000    0.5833    0.6364        12\n",
            "                  136.Barn_Swallow     0.6429    0.7500    0.6923        12\n",
            "                 137.Cliff_Swallow     0.7143    0.4167    0.5263        12\n",
            "                  138.Tree_Swallow     0.8182    0.7500    0.7826        12\n",
            "               139.Scarlet_Tanager     0.7333    0.9167    0.8148        12\n",
            "                140.Summer_Tanager     0.9167    0.9167    0.9167        12\n",
            "                    141.Artic_Tern     0.6667    0.5455    0.6000        11\n",
            "                    142.Black_Tern     0.4286    0.2500    0.3158        12\n",
            "                  143.Caspian_Tern     0.2821    0.9167    0.4314        12\n",
            "                   144.Common_Tern     0.2500    0.1667    0.2000        12\n",
            "                  145.Elegant_Tern     1.0000    0.0833    0.1538        12\n",
            "                 146.Forsters_Tern     0.1667    0.0833    0.1111        12\n",
            "                    147.Least_Tern     1.0000    0.3333    0.5000        12\n",
            "           148.Green_tailed_Towhee     0.8750    0.5833    0.7000        12\n",
            "                149.Brown_Thrasher     0.4231    0.9167    0.5789        12\n",
            "                 150.Sage_Thrasher     0.8571    1.0000    0.9231        12\n",
            "            151.Black_capped_Vireo     1.0000    0.5000    0.6667        10\n",
            "             152.Blue_headed_Vireo     1.0000    0.6667    0.8000        12\n",
            "            153.Philadelphia_Vireo     0.3600    0.7500    0.4865        12\n",
            "                154.Red_eyed_Vireo     0.6000    0.2500    0.3529        12\n",
            "                155.Warbling_Vireo     0.3684    0.5833    0.4516        12\n",
            "              156.White_eyed_Vireo     0.6364    0.5833    0.6087        12\n",
            "         157.Yellow_throated_Vireo     0.7000    0.5833    0.6364        12\n",
            "          158.Bay_breasted_Warbler     0.8889    0.6667    0.7619        12\n",
            "       159.Black_and_white_Warbler     0.8571    1.0000    0.9231        12\n",
            "   160.Black_throated_Blue_Warbler     0.7500    0.7500    0.7500        12\n",
            "           161.Blue_winged_Warbler     0.6111    0.9167    0.7333        12\n",
            "                162.Canada_Warbler     1.0000    0.2500    0.4000        12\n",
            "              163.Cape_May_Warbler     0.8750    0.5833    0.7000        12\n",
            "              164.Cerulean_Warbler     0.9167    0.9167    0.9167        12\n",
            "        165.Chestnut_sided_Warbler     1.0000    0.5833    0.7368        12\n",
            "         166.Golden_winged_Warbler     0.9091    0.8333    0.8696        12\n",
            "                167.Hooded_Warbler     0.4545    0.8333    0.5882        12\n",
            "              168.Kentucky_Warbler     0.8889    0.6667    0.7619        12\n",
            "              169.Magnolia_Warbler     0.8750    0.5833    0.7000        12\n",
            "              170.Mourning_Warbler     0.8750    0.5833    0.7000        12\n",
            "                171.Myrtle_Warbler     0.8750    0.5833    0.7000        12\n",
            "             172.Nashville_Warbler     0.8333    0.4167    0.5556        12\n",
            "        173.Orange_crowned_Warbler     0.5556    0.4167    0.4762        12\n",
            "                  174.Palm_Warbler     0.4000    0.8333    0.5405        12\n",
            "                  175.Pine_Warbler     0.6000    0.5000    0.5455        12\n",
            "               176.Prairie_Warbler     0.4074    0.9167    0.5641        12\n",
            "          177.Prothonotary_Warbler     1.0000    0.7500    0.8571        12\n",
            "              178.Swainson_Warbler     1.0000    0.3636    0.5333        11\n",
            "             179.Tennessee_Warbler     0.6250    0.4167    0.5000        12\n",
            "                180.Wilson_Warbler     0.5833    0.5833    0.5833        12\n",
            "           181.Worm_eating_Warbler     0.6429    0.7500    0.6923        12\n",
            "                182.Yellow_Warbler     0.3030    0.8333    0.4444        12\n",
            "          183.Northern_Waterthrush     0.5625    0.7500    0.6429        12\n",
            "         184.Louisiana_Waterthrush     0.7500    0.7500    0.7500        12\n",
            "              185.Bohemian_Waxwing     0.9167    0.9167    0.9167        12\n",
            "                 186.Cedar_Waxwing     0.5000    1.0000    0.6667        12\n",
            "187.American_Three_toed_Woodpecker     0.6364    0.7000    0.6667        10\n",
            "           188.Pileated_Woodpecker     1.0000    0.8333    0.9091        12\n",
            "        189.Red_bellied_Woodpecker     0.9231    1.0000    0.9600        12\n",
            "       190.Red_cockaded_Woodpecker     1.0000    0.7273    0.8421        11\n",
            "         191.Red_headed_Woodpecker     0.8333    0.8333    0.8333        12\n",
            "              192.Downy_Woodpecker     0.9231    1.0000    0.9600        12\n",
            "                   193.Bewick_Wren     0.5000    0.7500    0.6000        12\n",
            "                   194.Cactus_Wren     1.0000    0.3333    0.5000        12\n",
            "                 195.Carolina_Wren     1.0000    0.0833    0.1538        12\n",
            "                    196.House_Wren     1.0000    0.4167    0.5882        12\n",
            "                    197.Marsh_Wren     0.7143    0.4167    0.5263        12\n",
            "                     198.Rock_Wren     0.8571    0.5000    0.6316        12\n",
            "                   199.Winter_Wren     0.9000    0.7500    0.8182        12\n",
            "           200.Common_Yellowthroat     1.0000    0.9167    0.9565        12\n",
            "\n",
            "                          accuracy                         0.6308      2359\n",
            "                         macro avg     0.7069    0.6310    0.6321      2359\n",
            "                      weighted avg     0.7060    0.6308    0.6314      2359\n",
            "\n"
          ],
          "name": "stdout"
        }
      ]
    },
    {
      "cell_type": "code",
      "metadata": {
        "id": "_2xuvzj0B_Y2",
        "colab": {
          "base_uri": "https://localhost:8080/"
        },
        "outputId": "11006e39-a2ba-4253-e158-74e05d38222a"
      },
      "source": [
        "#model test scores\n",
        "print(\"ResNet50 Test\")\n",
        "print(\"Accuracy:\",history[1])\n",
        "print(\"Loss:\",history[0])"
      ],
      "execution_count": 23,
      "outputs": [
        {
          "output_type": "stream",
          "text": [
            "ResNet50 Test\n",
            "Accuracy: 0.6307757496833801\n",
            "Loss: 1.7183403968811035\n"
          ],
          "name": "stdout"
        }
      ]
    },
    {
      "cell_type": "code",
      "metadata": {
        "id": "1ZrUeKub5j8D"
      },
      "source": [
        ""
      ],
      "execution_count": null,
      "outputs": []
    }
  ]
}